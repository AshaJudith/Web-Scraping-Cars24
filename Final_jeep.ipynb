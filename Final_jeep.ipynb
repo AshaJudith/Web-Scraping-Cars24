{
 "cells": [
  {
   "cell_type": "code",
   "execution_count": 47,
   "id": "c3f4ca98",
   "metadata": {},
   "outputs": [],
   "source": [
    "from bs4 import BeautifulSoup\n",
    "import pandas as pd\n",
    "import requests"
   ]
  },
  {
   "cell_type": "code",
   "execution_count": 48,
   "id": "f90a5cdc",
   "metadata": {},
   "outputs": [],
   "source": [
    "website='https://www.cars24.com/buy-used-car?f=make%3A%3D%3Ajeep&sort=bestmatch&serveWarrantyCount=true&gaId=1225768733.1720324952&search=Jeep&listingSource=Search_LP&storeCityId=2378'"
   ]
  },
  {
   "cell_type": "code",
   "execution_count": 49,
   "id": "ac28fdbb",
   "metadata": {},
   "outputs": [],
   "source": [
    "response = requests.get(website)"
   ]
  },
  {
   "cell_type": "code",
   "execution_count": 50,
   "id": "dfb23445",
   "metadata": {},
   "outputs": [
    {
     "data": {
      "text/plain": [
       "200"
      ]
     },
     "execution_count": 50,
     "metadata": {},
     "output_type": "execute_result"
    }
   ],
   "source": [
    "response.status_code"
   ]
  },
  {
   "cell_type": "code",
   "execution_count": 51,
   "id": "128d9525",
   "metadata": {},
   "outputs": [],
   "source": [
    "html = response.text  # Extract the HTML content from the response\n",
    "soup = BeautifulSoup(html, 'html.parser')"
   ]
  },
  {
   "cell_type": "code",
   "execution_count": 52,
   "id": "3d29c0c8",
   "metadata": {},
   "outputs": [
    {
     "name": "stdout",
     "output_type": "stream",
     "text": [
      "Total available used cars for jeep in mumbai is:  8\n"
     ]
    }
   ],
   "source": [
    "cars = soup.find_all('div',{'class':\"_2YB7p\"})\n",
    "print(\"Total available used cars for jeep in mumbai is: \",len(cars))"
   ]
  },
  {
   "cell_type": "code",
   "execution_count": 53,
   "id": "59c41567",
   "metadata": {},
   "outputs": [],
   "source": [
    "Year_of_Manufacture = []\n",
    "Car_Name = []\n",
    "\n",
    "for i in range(len(cars)):\n",
    "    temp = cars[i].find('h3').get_text().split(' ')\n",
    "    Year_of_Manufacture.append(temp[0])\n",
    "    Car_Name.append(' '.join(temp[1:]))"
   ]
  },
  {
   "cell_type": "code",
   "execution_count": 54,
   "id": "afdd28f4",
   "metadata": {},
   "outputs": [],
   "source": [
    "Kilometers_Driven = []\n",
    "Fuel_Type = []\n",
    "Transmission = []\n",
    "\n",
    "for i in range(len(cars)):\n",
    "    temp = cars[i].find('ul',{'class':'_3J2G-'}).find_all('li')\n",
    "    Kilometers_Driven.append(temp[0].get_text())\n",
    "    Fuel_Type.append(temp[2].get_text())\n",
    "    Transmission.append(temp[4].get_text())"
   ]
  },
  {
   "cell_type": "code",
   "execution_count": 55,
   "id": "27470b65",
   "metadata": {},
   "outputs": [],
   "source": [
    "Price = []\n",
    "\n",
    "for i in range(len(cars)):\n",
    "    Price.append(cars[i].find('strong',{'class':'_3RL-I'}))"
   ]
  },
  {
   "cell_type": "code",
   "execution_count": 56,
   "id": "832d0187",
   "metadata": {},
   "outputs": [],
   "source": [
    "DF = pd.DataFrame({'Car Name':Car_Name,'Year of Manufacture':Year_of_Manufacture,'Kilometers Driven':Kilometers_Driven,'Fuel Type':Fuel_Type,'Transmission':Transmission,'Price':Price})"
   ]
  },
  {
   "cell_type": "code",
   "execution_count": 57,
   "id": "340796dc",
   "metadata": {},
   "outputs": [],
   "source": [
    "DF.to_csv('Jeep_Cars24.csv')"
   ]
  },
  {
   "cell_type": "code",
   "execution_count": 58,
   "id": "34f6ccf8",
   "metadata": {},
   "outputs": [
    {
     "data": {
      "text/html": [
       "<div>\n",
       "<style scoped>\n",
       "    .dataframe tbody tr th:only-of-type {\n",
       "        vertical-align: middle;\n",
       "    }\n",
       "\n",
       "    .dataframe tbody tr th {\n",
       "        vertical-align: top;\n",
       "    }\n",
       "\n",
       "    .dataframe thead th {\n",
       "        text-align: right;\n",
       "    }\n",
       "</style>\n",
       "<table border=\"1\" class=\"dataframe\">\n",
       "  <thead>\n",
       "    <tr style=\"text-align: right;\">\n",
       "      <th></th>\n",
       "      <th>Car Name</th>\n",
       "      <th>Year of Manufacture</th>\n",
       "      <th>Kilometers Driven</th>\n",
       "      <th>Fuel Type</th>\n",
       "      <th>Transmission</th>\n",
       "      <th>Price</th>\n",
       "    </tr>\n",
       "  </thead>\n",
       "  <tbody>\n",
       "    <tr>\n",
       "      <th>0</th>\n",
       "      <td>Jeep Compass LIMITED (O) 2.0 DIESEL</td>\n",
       "      <td>2017</td>\n",
       "      <td>99,924 km</td>\n",
       "      <td>Diesel</td>\n",
       "      <td>Manual</td>\n",
       "      <td>[₹9.46 Lakh]</td>\n",
       "    </tr>\n",
       "    <tr>\n",
       "      <th>1</th>\n",
       "      <td>Jeep Compass SPORT 1.4 PETROL</td>\n",
       "      <td>2019</td>\n",
       "      <td>10,405 km</td>\n",
       "      <td>Petrol</td>\n",
       "      <td>Manual</td>\n",
       "      <td>[₹11.14 Lakh]</td>\n",
       "    </tr>\n",
       "    <tr>\n",
       "      <th>2</th>\n",
       "      <td>Jeep Compass LIMITED 2.0 DIESEL</td>\n",
       "      <td>2017</td>\n",
       "      <td>66,096 km</td>\n",
       "      <td>Diesel</td>\n",
       "      <td>Manual</td>\n",
       "      <td>[₹9.32 Lakh]</td>\n",
       "    </tr>\n",
       "    <tr>\n",
       "      <th>3</th>\n",
       "      <td>Jeep Compass LIMITED PLUS PETROL AT</td>\n",
       "      <td>2019</td>\n",
       "      <td>33,688 km</td>\n",
       "      <td>Petrol</td>\n",
       "      <td>Automatic</td>\n",
       "      <td>[₹14.82 Lakh]</td>\n",
       "    </tr>\n",
       "    <tr>\n",
       "      <th>4</th>\n",
       "      <td>Jeep Compass SPORT 1.4 PETROL DCT</td>\n",
       "      <td>2021</td>\n",
       "      <td>21,250 km</td>\n",
       "      <td>Petrol</td>\n",
       "      <td>Automatic</td>\n",
       "      <td>[₹15.42 Lakh]</td>\n",
       "    </tr>\n",
       "    <tr>\n",
       "      <th>5</th>\n",
       "      <td>Jeep Compass LONGITUDE 2.0 DIESEL</td>\n",
       "      <td>2018</td>\n",
       "      <td>44,734 km</td>\n",
       "      <td>Diesel</td>\n",
       "      <td>Manual</td>\n",
       "      <td>[₹10.19 Lakh]</td>\n",
       "    </tr>\n",
       "    <tr>\n",
       "      <th>6</th>\n",
       "      <td>Jeep Compass LIMITED (O) 1.4 PETROL AT</td>\n",
       "      <td>2018</td>\n",
       "      <td>38,696 km</td>\n",
       "      <td>Petrol</td>\n",
       "      <td>Automatic</td>\n",
       "      <td>[₹12.89 Lakh]</td>\n",
       "    </tr>\n",
       "    <tr>\n",
       "      <th>7</th>\n",
       "      <td>Jeep Compass LIMITED PLUS PETROL AT</td>\n",
       "      <td>2019</td>\n",
       "      <td>36,921 km</td>\n",
       "      <td>Petrol</td>\n",
       "      <td>Automatic</td>\n",
       "      <td>[₹15.02 Lakh]</td>\n",
       "    </tr>\n",
       "  </tbody>\n",
       "</table>\n",
       "</div>"
      ],
      "text/plain": [
       "                                 Car Name Year of Manufacture  \\\n",
       "0     Jeep Compass LIMITED (O) 2.0 DIESEL                2017   \n",
       "1           Jeep Compass SPORT 1.4 PETROL                2019   \n",
       "2         Jeep Compass LIMITED 2.0 DIESEL                2017   \n",
       "3     Jeep Compass LIMITED PLUS PETROL AT                2019   \n",
       "4       Jeep Compass SPORT 1.4 PETROL DCT                2021   \n",
       "5       Jeep Compass LONGITUDE 2.0 DIESEL                2018   \n",
       "6  Jeep Compass LIMITED (O) 1.4 PETROL AT                2018   \n",
       "7     Jeep Compass LIMITED PLUS PETROL AT                2019   \n",
       "\n",
       "  Kilometers Driven Fuel Type Transmission          Price  \n",
       "0         99,924 km    Diesel       Manual   [₹9.46 Lakh]  \n",
       "1         10,405 km    Petrol       Manual  [₹11.14 Lakh]  \n",
       "2         66,096 km    Diesel       Manual   [₹9.32 Lakh]  \n",
       "3         33,688 km    Petrol    Automatic  [₹14.82 Lakh]  \n",
       "4         21,250 km    Petrol    Automatic  [₹15.42 Lakh]  \n",
       "5         44,734 km    Diesel       Manual  [₹10.19 Lakh]  \n",
       "6         38,696 km    Petrol    Automatic  [₹12.89 Lakh]  \n",
       "7         36,921 km    Petrol    Automatic  [₹15.02 Lakh]  "
      ]
     },
     "execution_count": 58,
     "metadata": {},
     "output_type": "execute_result"
    }
   ],
   "source": [
    "DF"
   ]
  },
  {
   "cell_type": "code",
   "execution_count": 59,
   "id": "8d13ef14",
   "metadata": {},
   "outputs": [],
   "source": [
    "df = pd.read_csv('Jeep_Cars24.csv')"
   ]
  },
  {
   "cell_type": "code",
   "execution_count": 60,
   "id": "ad827a0c",
   "metadata": {},
   "outputs": [],
   "source": [
    "df = df.drop(columns=['Unnamed: 0'])"
   ]
  },
  {
   "cell_type": "code",
   "execution_count": 61,
   "id": "108b1dd0",
   "metadata": {},
   "outputs": [
    {
     "data": {
      "text/html": [
       "<div>\n",
       "<style scoped>\n",
       "    .dataframe tbody tr th:only-of-type {\n",
       "        vertical-align: middle;\n",
       "    }\n",
       "\n",
       "    .dataframe tbody tr th {\n",
       "        vertical-align: top;\n",
       "    }\n",
       "\n",
       "    .dataframe thead th {\n",
       "        text-align: right;\n",
       "    }\n",
       "</style>\n",
       "<table border=\"1\" class=\"dataframe\">\n",
       "  <thead>\n",
       "    <tr style=\"text-align: right;\">\n",
       "      <th></th>\n",
       "      <th>Car Name</th>\n",
       "      <th>Year of Manufacture</th>\n",
       "      <th>Kilometers Driven</th>\n",
       "      <th>Fuel Type</th>\n",
       "      <th>Transmission</th>\n",
       "      <th>Price</th>\n",
       "    </tr>\n",
       "  </thead>\n",
       "  <tbody>\n",
       "    <tr>\n",
       "      <th>0</th>\n",
       "      <td>Jeep Compass LIMITED (O) 2.0 DIESEL</td>\n",
       "      <td>2017</td>\n",
       "      <td>99,924 km</td>\n",
       "      <td>Diesel</td>\n",
       "      <td>Manual</td>\n",
       "      <td>&lt;strong class=\"_3RL-I\"&gt;₹9.46 Lakh&lt;/strong&gt;</td>\n",
       "    </tr>\n",
       "    <tr>\n",
       "      <th>1</th>\n",
       "      <td>Jeep Compass SPORT 1.4 PETROL</td>\n",
       "      <td>2019</td>\n",
       "      <td>10,405 km</td>\n",
       "      <td>Petrol</td>\n",
       "      <td>Manual</td>\n",
       "      <td>&lt;strong class=\"_3RL-I\"&gt;₹11.14 Lakh&lt;/strong&gt;</td>\n",
       "    </tr>\n",
       "    <tr>\n",
       "      <th>2</th>\n",
       "      <td>Jeep Compass LIMITED 2.0 DIESEL</td>\n",
       "      <td>2017</td>\n",
       "      <td>66,096 km</td>\n",
       "      <td>Diesel</td>\n",
       "      <td>Manual</td>\n",
       "      <td>&lt;strong class=\"_3RL-I\"&gt;₹9.32 Lakh&lt;/strong&gt;</td>\n",
       "    </tr>\n",
       "    <tr>\n",
       "      <th>3</th>\n",
       "      <td>Jeep Compass LIMITED PLUS PETROL AT</td>\n",
       "      <td>2019</td>\n",
       "      <td>33,688 km</td>\n",
       "      <td>Petrol</td>\n",
       "      <td>Automatic</td>\n",
       "      <td>&lt;strong class=\"_3RL-I\"&gt;₹14.82 Lakh&lt;/strong&gt;</td>\n",
       "    </tr>\n",
       "    <tr>\n",
       "      <th>4</th>\n",
       "      <td>Jeep Compass SPORT 1.4 PETROL DCT</td>\n",
       "      <td>2021</td>\n",
       "      <td>21,250 km</td>\n",
       "      <td>Petrol</td>\n",
       "      <td>Automatic</td>\n",
       "      <td>&lt;strong class=\"_3RL-I\"&gt;₹15.42 Lakh&lt;/strong&gt;</td>\n",
       "    </tr>\n",
       "    <tr>\n",
       "      <th>5</th>\n",
       "      <td>Jeep Compass LONGITUDE 2.0 DIESEL</td>\n",
       "      <td>2018</td>\n",
       "      <td>44,734 km</td>\n",
       "      <td>Diesel</td>\n",
       "      <td>Manual</td>\n",
       "      <td>&lt;strong class=\"_3RL-I\"&gt;₹10.19 Lakh&lt;/strong&gt;</td>\n",
       "    </tr>\n",
       "    <tr>\n",
       "      <th>6</th>\n",
       "      <td>Jeep Compass LIMITED (O) 1.4 PETROL AT</td>\n",
       "      <td>2018</td>\n",
       "      <td>38,696 km</td>\n",
       "      <td>Petrol</td>\n",
       "      <td>Automatic</td>\n",
       "      <td>&lt;strong class=\"_3RL-I\"&gt;₹12.89 Lakh&lt;/strong&gt;</td>\n",
       "    </tr>\n",
       "    <tr>\n",
       "      <th>7</th>\n",
       "      <td>Jeep Compass LIMITED PLUS PETROL AT</td>\n",
       "      <td>2019</td>\n",
       "      <td>36,921 km</td>\n",
       "      <td>Petrol</td>\n",
       "      <td>Automatic</td>\n",
       "      <td>&lt;strong class=\"_3RL-I\"&gt;₹15.02 Lakh&lt;/strong&gt;</td>\n",
       "    </tr>\n",
       "  </tbody>\n",
       "</table>\n",
       "</div>"
      ],
      "text/plain": [
       "                                 Car Name  Year of Manufacture  \\\n",
       "0     Jeep Compass LIMITED (O) 2.0 DIESEL                 2017   \n",
       "1           Jeep Compass SPORT 1.4 PETROL                 2019   \n",
       "2         Jeep Compass LIMITED 2.0 DIESEL                 2017   \n",
       "3     Jeep Compass LIMITED PLUS PETROL AT                 2019   \n",
       "4       Jeep Compass SPORT 1.4 PETROL DCT                 2021   \n",
       "5       Jeep Compass LONGITUDE 2.0 DIESEL                 2018   \n",
       "6  Jeep Compass LIMITED (O) 1.4 PETROL AT                 2018   \n",
       "7     Jeep Compass LIMITED PLUS PETROL AT                 2019   \n",
       "\n",
       "  Kilometers Driven Fuel Type Transmission  \\\n",
       "0         99,924 km    Diesel       Manual   \n",
       "1         10,405 km    Petrol       Manual   \n",
       "2         66,096 km    Diesel       Manual   \n",
       "3         33,688 km    Petrol    Automatic   \n",
       "4         21,250 km    Petrol    Automatic   \n",
       "5         44,734 km    Diesel       Manual   \n",
       "6         38,696 km    Petrol    Automatic   \n",
       "7         36,921 km    Petrol    Automatic   \n",
       "\n",
       "                                         Price  \n",
       "0   <strong class=\"_3RL-I\">₹9.46 Lakh</strong>  \n",
       "1  <strong class=\"_3RL-I\">₹11.14 Lakh</strong>  \n",
       "2   <strong class=\"_3RL-I\">₹9.32 Lakh</strong>  \n",
       "3  <strong class=\"_3RL-I\">₹14.82 Lakh</strong>  \n",
       "4  <strong class=\"_3RL-I\">₹15.42 Lakh</strong>  \n",
       "5  <strong class=\"_3RL-I\">₹10.19 Lakh</strong>  \n",
       "6  <strong class=\"_3RL-I\">₹12.89 Lakh</strong>  \n",
       "7  <strong class=\"_3RL-I\">₹15.02 Lakh</strong>  "
      ]
     },
     "execution_count": 61,
     "metadata": {},
     "output_type": "execute_result"
    }
   ],
   "source": [
    "df"
   ]
  },
  {
   "cell_type": "code",
   "execution_count": 62,
   "id": "1d7a3a59",
   "metadata": {},
   "outputs": [
    {
     "name": "stderr",
     "output_type": "stream",
     "text": [
      "C:\\Users\\Admin\\AppData\\Local\\Temp\\ipykernel_19980\\1215333404.py:2: SettingWithCopyWarning: \n",
      "A value is trying to be set on a copy of a slice from a DataFrame\n",
      "\n",
      "See the caveats in the documentation: https://pandas.pydata.org/pandas-docs/stable/user_guide/indexing.html#returning-a-view-versus-a-copy\n",
      "  df['Car Name'][i]=df['Car Name'][i].replace('DIESEL','').replace('PETROL','')\n",
      "C:\\Users\\Admin\\AppData\\Local\\Temp\\ipykernel_19980\\1215333404.py:3: SettingWithCopyWarning: \n",
      "A value is trying to be set on a copy of a slice from a DataFrame\n",
      "\n",
      "See the caveats in the documentation: https://pandas.pydata.org/pandas-docs/stable/user_guide/indexing.html#returning-a-view-versus-a-copy\n",
      "  df['Kilometers Driven'][i]=df['Kilometers Driven'][i].replace(' km','').replace(',','')\n",
      "C:\\Users\\Admin\\AppData\\Local\\Temp\\ipykernel_19980\\1215333404.py:4: SettingWithCopyWarning: \n",
      "A value is trying to be set on a copy of a slice from a DataFrame\n",
      "\n",
      "See the caveats in the documentation: https://pandas.pydata.org/pandas-docs/stable/user_guide/indexing.html#returning-a-view-versus-a-copy\n",
      "  df['Price'][i]=df['Price'][i].replace('</strong>','').replace('<strong class=\"_3RL-I\">','').replace('₹','').replace(' Lakh','')\n"
     ]
    }
   ],
   "source": [
    "for i in range(len(df)):\n",
    "    df['Car Name'][i]=df['Car Name'][i].replace('DIESEL','').replace('PETROL','')\n",
    "    df['Kilometers Driven'][i]=df['Kilometers Driven'][i].replace(' km','').replace(',','')\n",
    "    df['Price'][i]=df['Price'][i].replace('</strong>','').replace('<strong class=\"_3RL-I\">','').replace('₹','').replace(' Lakh','')"
   ]
  },
  {
   "cell_type": "code",
   "execution_count": 63,
   "id": "8d172871",
   "metadata": {},
   "outputs": [
    {
     "data": {
      "text/html": [
       "<div>\n",
       "<style scoped>\n",
       "    .dataframe tbody tr th:only-of-type {\n",
       "        vertical-align: middle;\n",
       "    }\n",
       "\n",
       "    .dataframe tbody tr th {\n",
       "        vertical-align: top;\n",
       "    }\n",
       "\n",
       "    .dataframe thead th {\n",
       "        text-align: right;\n",
       "    }\n",
       "</style>\n",
       "<table border=\"1\" class=\"dataframe\">\n",
       "  <thead>\n",
       "    <tr style=\"text-align: right;\">\n",
       "      <th></th>\n",
       "      <th>Car Name</th>\n",
       "      <th>Year of Manufacture</th>\n",
       "      <th>Kilometers Driven</th>\n",
       "      <th>Fuel Type</th>\n",
       "      <th>Transmission</th>\n",
       "      <th>Price</th>\n",
       "    </tr>\n",
       "  </thead>\n",
       "  <tbody>\n",
       "    <tr>\n",
       "      <th>0</th>\n",
       "      <td>Jeep Compass LIMITED (O) 2.0</td>\n",
       "      <td>2017</td>\n",
       "      <td>99924</td>\n",
       "      <td>Diesel</td>\n",
       "      <td>Manual</td>\n",
       "      <td>9.46</td>\n",
       "    </tr>\n",
       "    <tr>\n",
       "      <th>1</th>\n",
       "      <td>Jeep Compass SPORT 1.4</td>\n",
       "      <td>2019</td>\n",
       "      <td>10405</td>\n",
       "      <td>Petrol</td>\n",
       "      <td>Manual</td>\n",
       "      <td>11.14</td>\n",
       "    </tr>\n",
       "    <tr>\n",
       "      <th>2</th>\n",
       "      <td>Jeep Compass LIMITED 2.0</td>\n",
       "      <td>2017</td>\n",
       "      <td>66096</td>\n",
       "      <td>Diesel</td>\n",
       "      <td>Manual</td>\n",
       "      <td>9.32</td>\n",
       "    </tr>\n",
       "    <tr>\n",
       "      <th>3</th>\n",
       "      <td>Jeep Compass LIMITED PLUS  AT</td>\n",
       "      <td>2019</td>\n",
       "      <td>33688</td>\n",
       "      <td>Petrol</td>\n",
       "      <td>Automatic</td>\n",
       "      <td>14.82</td>\n",
       "    </tr>\n",
       "    <tr>\n",
       "      <th>4</th>\n",
       "      <td>Jeep Compass SPORT 1.4  DCT</td>\n",
       "      <td>2021</td>\n",
       "      <td>21250</td>\n",
       "      <td>Petrol</td>\n",
       "      <td>Automatic</td>\n",
       "      <td>15.42</td>\n",
       "    </tr>\n",
       "    <tr>\n",
       "      <th>5</th>\n",
       "      <td>Jeep Compass LONGITUDE 2.0</td>\n",
       "      <td>2018</td>\n",
       "      <td>44734</td>\n",
       "      <td>Diesel</td>\n",
       "      <td>Manual</td>\n",
       "      <td>10.19</td>\n",
       "    </tr>\n",
       "    <tr>\n",
       "      <th>6</th>\n",
       "      <td>Jeep Compass LIMITED (O) 1.4  AT</td>\n",
       "      <td>2018</td>\n",
       "      <td>38696</td>\n",
       "      <td>Petrol</td>\n",
       "      <td>Automatic</td>\n",
       "      <td>12.89</td>\n",
       "    </tr>\n",
       "    <tr>\n",
       "      <th>7</th>\n",
       "      <td>Jeep Compass LIMITED PLUS  AT</td>\n",
       "      <td>2019</td>\n",
       "      <td>36921</td>\n",
       "      <td>Petrol</td>\n",
       "      <td>Automatic</td>\n",
       "      <td>15.02</td>\n",
       "    </tr>\n",
       "  </tbody>\n",
       "</table>\n",
       "</div>"
      ],
      "text/plain": [
       "                           Car Name  Year of Manufacture Kilometers Driven  \\\n",
       "0     Jeep Compass LIMITED (O) 2.0                  2017             99924   \n",
       "1           Jeep Compass SPORT 1.4                  2019             10405   \n",
       "2         Jeep Compass LIMITED 2.0                  2017             66096   \n",
       "3     Jeep Compass LIMITED PLUS  AT                 2019             33688   \n",
       "4       Jeep Compass SPORT 1.4  DCT                 2021             21250   \n",
       "5       Jeep Compass LONGITUDE 2.0                  2018             44734   \n",
       "6  Jeep Compass LIMITED (O) 1.4  AT                 2018             38696   \n",
       "7     Jeep Compass LIMITED PLUS  AT                 2019             36921   \n",
       "\n",
       "  Fuel Type Transmission  Price  \n",
       "0    Diesel       Manual   9.46  \n",
       "1    Petrol       Manual  11.14  \n",
       "2    Diesel       Manual   9.32  \n",
       "3    Petrol    Automatic  14.82  \n",
       "4    Petrol    Automatic  15.42  \n",
       "5    Diesel       Manual  10.19  \n",
       "6    Petrol    Automatic  12.89  \n",
       "7    Petrol    Automatic  15.02  "
      ]
     },
     "execution_count": 63,
     "metadata": {},
     "output_type": "execute_result"
    }
   ],
   "source": [
    "df\n"
   ]
  },
  {
   "cell_type": "code",
   "execution_count": 64,
   "id": "f21c95ca",
   "metadata": {},
   "outputs": [],
   "source": [
    "df.rename(columns={'Price':'Price(in Lakhs)'},inplace=True)\n",
    "df.rename(columns={'Kilometers Driven':'Kilometers Driven(in km)'},inplace=True)"
   ]
  },
  {
   "cell_type": "code",
   "execution_count": 65,
   "id": "22894cfc",
   "metadata": {},
   "outputs": [
    {
     "data": {
      "text/plain": [
       "Car Name                    object\n",
       "Year of Manufacture          int64\n",
       "Kilometers Driven(in km)    object\n",
       "Fuel Type                   object\n",
       "Transmission                object\n",
       "Price(in Lakhs)             object\n",
       "dtype: object"
      ]
     },
     "execution_count": 65,
     "metadata": {},
     "output_type": "execute_result"
    }
   ],
   "source": [
    "df.dtypes"
   ]
  },
  {
   "cell_type": "code",
   "execution_count": 66,
   "id": "8589b578",
   "metadata": {},
   "outputs": [],
   "source": [
    "df['Kilometers Driven(in km)']=df['Kilometers Driven(in km)'].astype(int)\n",
    "df['Price(in Lakhs)']=df['Price(in Lakhs)'].astype(float)"
   ]
  },
  {
   "cell_type": "code",
   "execution_count": 67,
   "id": "c99d801a",
   "metadata": {},
   "outputs": [
    {
     "data": {
      "text/plain": [
       "Car Name                     object\n",
       "Year of Manufacture           int64\n",
       "Kilometers Driven(in km)      int32\n",
       "Fuel Type                    object\n",
       "Transmission                 object\n",
       "Price(in Lakhs)             float64\n",
       "dtype: object"
      ]
     },
     "execution_count": 67,
     "metadata": {},
     "output_type": "execute_result"
    }
   ],
   "source": [
    "df.dtypes"
   ]
  },
  {
   "cell_type": "code",
   "execution_count": 68,
   "id": "0418e499",
   "metadata": {},
   "outputs": [],
   "source": [
    "df.to_csv('Jeep_Cars24_cleaned.csv')"
   ]
  },
  {
   "cell_type": "code",
   "execution_count": 69,
   "id": "37331b63",
   "metadata": {
    "scrolled": true
   },
   "outputs": [
    {
     "data": {
      "text/plain": [
       "Car Name                     object\n",
       "Year of Manufacture           int64\n",
       "Kilometers Driven(in km)      int32\n",
       "Fuel Type                    object\n",
       "Transmission                 object\n",
       "Price(in Lakhs)             float64\n",
       "dtype: object"
      ]
     },
     "execution_count": 69,
     "metadata": {},
     "output_type": "execute_result"
    }
   ],
   "source": [
    "df.dtypes"
   ]
  },
  {
   "cell_type": "markdown",
   "id": "7f4e1c10",
   "metadata": {},
   "source": [
    "## Data Analysis"
   ]
  },
  {
   "cell_type": "code",
   "execution_count": 70,
   "id": "638e908b",
   "metadata": {},
   "outputs": [],
   "source": [
    "import matplotlib.pyplot as plt\n",
    "import seaborn as sns"
   ]
  },
  {
   "cell_type": "code",
   "execution_count": 71,
   "id": "e65cf608",
   "metadata": {},
   "outputs": [],
   "source": [
    "df = pd.read_csv('Jeep_Cars24_cleaned.csv')"
   ]
  },
  {
   "cell_type": "code",
   "execution_count": 72,
   "id": "1ca9036c",
   "metadata": {},
   "outputs": [
    {
     "data": {
      "text/html": [
       "<div>\n",
       "<style scoped>\n",
       "    .dataframe tbody tr th:only-of-type {\n",
       "        vertical-align: middle;\n",
       "    }\n",
       "\n",
       "    .dataframe tbody tr th {\n",
       "        vertical-align: top;\n",
       "    }\n",
       "\n",
       "    .dataframe thead th {\n",
       "        text-align: right;\n",
       "    }\n",
       "</style>\n",
       "<table border=\"1\" class=\"dataframe\">\n",
       "  <thead>\n",
       "    <tr style=\"text-align: right;\">\n",
       "      <th></th>\n",
       "      <th>Unnamed: 0</th>\n",
       "      <th>Car Name</th>\n",
       "      <th>Year of Manufacture</th>\n",
       "      <th>Kilometers Driven(in km)</th>\n",
       "      <th>Fuel Type</th>\n",
       "      <th>Transmission</th>\n",
       "      <th>Price(in Lakhs)</th>\n",
       "    </tr>\n",
       "  </thead>\n",
       "  <tbody>\n",
       "    <tr>\n",
       "      <th>0</th>\n",
       "      <td>0</td>\n",
       "      <td>Jeep Compass LIMITED (O) 2.0</td>\n",
       "      <td>2017</td>\n",
       "      <td>99924</td>\n",
       "      <td>Diesel</td>\n",
       "      <td>Manual</td>\n",
       "      <td>9.46</td>\n",
       "    </tr>\n",
       "    <tr>\n",
       "      <th>1</th>\n",
       "      <td>1</td>\n",
       "      <td>Jeep Compass SPORT 1.4</td>\n",
       "      <td>2019</td>\n",
       "      <td>10405</td>\n",
       "      <td>Petrol</td>\n",
       "      <td>Manual</td>\n",
       "      <td>11.14</td>\n",
       "    </tr>\n",
       "    <tr>\n",
       "      <th>2</th>\n",
       "      <td>2</td>\n",
       "      <td>Jeep Compass LIMITED 2.0</td>\n",
       "      <td>2017</td>\n",
       "      <td>66096</td>\n",
       "      <td>Diesel</td>\n",
       "      <td>Manual</td>\n",
       "      <td>9.32</td>\n",
       "    </tr>\n",
       "    <tr>\n",
       "      <th>3</th>\n",
       "      <td>3</td>\n",
       "      <td>Jeep Compass LIMITED PLUS  AT</td>\n",
       "      <td>2019</td>\n",
       "      <td>33688</td>\n",
       "      <td>Petrol</td>\n",
       "      <td>Automatic</td>\n",
       "      <td>14.82</td>\n",
       "    </tr>\n",
       "    <tr>\n",
       "      <th>4</th>\n",
       "      <td>4</td>\n",
       "      <td>Jeep Compass SPORT 1.4  DCT</td>\n",
       "      <td>2021</td>\n",
       "      <td>21250</td>\n",
       "      <td>Petrol</td>\n",
       "      <td>Automatic</td>\n",
       "      <td>15.42</td>\n",
       "    </tr>\n",
       "  </tbody>\n",
       "</table>\n",
       "</div>"
      ],
      "text/plain": [
       "   Unnamed: 0                       Car Name  Year of Manufacture  \\\n",
       "0           0  Jeep Compass LIMITED (O) 2.0                  2017   \n",
       "1           1        Jeep Compass SPORT 1.4                  2019   \n",
       "2           2      Jeep Compass LIMITED 2.0                  2017   \n",
       "3           3  Jeep Compass LIMITED PLUS  AT                 2019   \n",
       "4           4    Jeep Compass SPORT 1.4  DCT                 2021   \n",
       "\n",
       "   Kilometers Driven(in km) Fuel Type Transmission  Price(in Lakhs)  \n",
       "0                     99924    Diesel       Manual             9.46  \n",
       "1                     10405    Petrol       Manual            11.14  \n",
       "2                     66096    Diesel       Manual             9.32  \n",
       "3                     33688    Petrol    Automatic            14.82  \n",
       "4                     21250    Petrol    Automatic            15.42  "
      ]
     },
     "execution_count": 72,
     "metadata": {},
     "output_type": "execute_result"
    }
   ],
   "source": [
    "df.head()"
   ]
  },
  {
   "cell_type": "code",
   "execution_count": 73,
   "id": "373396c3",
   "metadata": {},
   "outputs": [
    {
     "data": {
      "text/html": [
       "<div>\n",
       "<style scoped>\n",
       "    .dataframe tbody tr th:only-of-type {\n",
       "        vertical-align: middle;\n",
       "    }\n",
       "\n",
       "    .dataframe tbody tr th {\n",
       "        vertical-align: top;\n",
       "    }\n",
       "\n",
       "    .dataframe thead th {\n",
       "        text-align: right;\n",
       "    }\n",
       "</style>\n",
       "<table border=\"1\" class=\"dataframe\">\n",
       "  <thead>\n",
       "    <tr style=\"text-align: right;\">\n",
       "      <th></th>\n",
       "      <th>Unnamed: 0</th>\n",
       "      <th>Year of Manufacture</th>\n",
       "      <th>Kilometers Driven(in km)</th>\n",
       "      <th>Price(in Lakhs)</th>\n",
       "    </tr>\n",
       "  </thead>\n",
       "  <tbody>\n",
       "    <tr>\n",
       "      <th>count</th>\n",
       "      <td>8.00000</td>\n",
       "      <td>8.000000</td>\n",
       "      <td>8.000000</td>\n",
       "      <td>8.000000</td>\n",
       "    </tr>\n",
       "    <tr>\n",
       "      <th>mean</th>\n",
       "      <td>3.50000</td>\n",
       "      <td>2018.500000</td>\n",
       "      <td>43964.250000</td>\n",
       "      <td>12.282500</td>\n",
       "    </tr>\n",
       "    <tr>\n",
       "      <th>std</th>\n",
       "      <td>2.44949</td>\n",
       "      <td>1.309307</td>\n",
       "      <td>27895.273664</td>\n",
       "      <td>2.579384</td>\n",
       "    </tr>\n",
       "    <tr>\n",
       "      <th>min</th>\n",
       "      <td>0.00000</td>\n",
       "      <td>2017.000000</td>\n",
       "      <td>10405.000000</td>\n",
       "      <td>9.320000</td>\n",
       "    </tr>\n",
       "    <tr>\n",
       "      <th>25%</th>\n",
       "      <td>1.75000</td>\n",
       "      <td>2017.750000</td>\n",
       "      <td>30578.500000</td>\n",
       "      <td>10.007500</td>\n",
       "    </tr>\n",
       "    <tr>\n",
       "      <th>50%</th>\n",
       "      <td>3.50000</td>\n",
       "      <td>2018.500000</td>\n",
       "      <td>37808.500000</td>\n",
       "      <td>12.015000</td>\n",
       "    </tr>\n",
       "    <tr>\n",
       "      <th>75%</th>\n",
       "      <td>5.25000</td>\n",
       "      <td>2019.000000</td>\n",
       "      <td>50074.500000</td>\n",
       "      <td>14.870000</td>\n",
       "    </tr>\n",
       "    <tr>\n",
       "      <th>max</th>\n",
       "      <td>7.00000</td>\n",
       "      <td>2021.000000</td>\n",
       "      <td>99924.000000</td>\n",
       "      <td>15.420000</td>\n",
       "    </tr>\n",
       "  </tbody>\n",
       "</table>\n",
       "</div>"
      ],
      "text/plain": [
       "       Unnamed: 0  Year of Manufacture  Kilometers Driven(in km)  \\\n",
       "count     8.00000             8.000000                  8.000000   \n",
       "mean      3.50000          2018.500000              43964.250000   \n",
       "std       2.44949             1.309307              27895.273664   \n",
       "min       0.00000          2017.000000              10405.000000   \n",
       "25%       1.75000          2017.750000              30578.500000   \n",
       "50%       3.50000          2018.500000              37808.500000   \n",
       "75%       5.25000          2019.000000              50074.500000   \n",
       "max       7.00000          2021.000000              99924.000000   \n",
       "\n",
       "       Price(in Lakhs)  \n",
       "count         8.000000  \n",
       "mean         12.282500  \n",
       "std           2.579384  \n",
       "min           9.320000  \n",
       "25%          10.007500  \n",
       "50%          12.015000  \n",
       "75%          14.870000  \n",
       "max          15.420000  "
      ]
     },
     "execution_count": 73,
     "metadata": {},
     "output_type": "execute_result"
    }
   ],
   "source": [
    "df.describe()"
   ]
  },
  {
   "cell_type": "code",
   "execution_count": 74,
   "id": "3c777883",
   "metadata": {},
   "outputs": [
    {
     "name": "stdout",
     "output_type": "stream",
     "text": [
      "Summary Statistics:\n",
      "       Unnamed: 0  Year of Manufacture  Kilometers Driven(in km)  \\\n",
      "count     8.00000             8.000000                  8.000000   \n",
      "mean      3.50000          2018.500000              43964.250000   \n",
      "std       2.44949             1.309307              27895.273664   \n",
      "min       0.00000          2017.000000              10405.000000   \n",
      "25%       1.75000          2017.750000              30578.500000   \n",
      "50%       3.50000          2018.500000              37808.500000   \n",
      "75%       5.25000          2019.000000              50074.500000   \n",
      "max       7.00000          2021.000000              99924.000000   \n",
      "\n",
      "       Price(in Lakhs)  \n",
      "count         8.000000  \n",
      "mean         12.282500  \n",
      "std           2.579384  \n",
      "min           9.320000  \n",
      "25%          10.007500  \n",
      "50%          12.015000  \n",
      "75%          14.870000  \n",
      "max          15.420000  \n"
     ]
    }
   ],
   "source": [
    "#Descriptive Statistics\n",
    "summary_stats = df.describe()\n",
    "print(\"Summary Statistics:\")\n",
    "print(summary_stats)"
   ]
  },
  {
   "cell_type": "markdown",
   "id": "6e646a01",
   "metadata": {},
   "source": [
    "## Distribution Plots"
   ]
  },
  {
   "cell_type": "code",
   "execution_count": 76,
   "id": "bbccfc6c",
   "metadata": {},
   "outputs": [
    {
     "data": {
      "text/plain": [
       "<Figure size 1296x360 with 0 Axes>"
      ]
     },
     "execution_count": 76,
     "metadata": {},
     "output_type": "execute_result"
    },
    {
     "data": {
      "text/plain": [
       "<Figure size 1296x360 with 0 Axes>"
      ]
     },
     "metadata": {},
     "output_type": "display_data"
    }
   ],
   "source": [
    "plt.figure(figsize=(18, 5))\n"
   ]
  },
  {
   "cell_type": "code",
   "execution_count": 77,
   "id": "1b55817d",
   "metadata": {},
   "outputs": [
    {
     "data": {
      "text/plain": [
       "Text(0.5, 1.0, 'Distribution of Year of Manufacture')"
      ]
     },
     "execution_count": 77,
     "metadata": {},
     "output_type": "execute_result"
    },
    {
     "data": {
      "image/png": "[encoded data removed]",
      "text/plain": [
       "<Figure size 432x288 with 1 Axes>"
      ]
     },
     "metadata": {
      "needs_background": "light"
     },
     "output_type": "display_data"
    }
   ],
   "source": [
    "#Year of Manufacture\n",
    "plt.subplot(1, 3, 1)\n",
    "sns.histplot(df['Year of Manufacture'], kde=True)\n",
    "plt.title('Distribution of Year of Manufacture')"
   ]
  },
  {
   "cell_type": "code",
   "execution_count": 78,
   "id": "b2904286",
   "metadata": {},
   "outputs": [
    {
     "data": {
      "text/plain": [
       "Text(0.5, 1.0, 'Distribution of Kilometers Driven')"
      ]
     },
     "execution_count": 78,
     "metadata": {},
     "output_type": "execute_result"
    },
    {
     "data": {
      "image/png": "[encoded data removed]",
      "text/plain": [
       "<Figure size 432x288 with 1 Axes>"
      ]
     },
     "metadata": {
      "needs_background": "light"
     },
     "output_type": "display_data"
    }
   ],
   "source": [
    "#Kilometers Driven(in km)\n",
    "plt.subplot(1, 3, 2)\n",
    "sns.histplot(df['Kilometers Driven(in km)'], kde=True)\n",
    "plt.title('Distribution of Kilometers Driven')"
   ]
  },
  {
   "cell_type": "code",
   "execution_count": 79,
   "id": "7b4140fd",
   "metadata": {},
   "outputs": [
    {
     "data": {
      "text/plain": [
       "<Figure size 432x288 with 0 Axes>"
      ]
     },
     "metadata": {},
     "output_type": "display_data"
    }
   ],
   "source": [
    "plt.tight_layout()\n",
    "plt.show()"
   ]
  },
  {
   "cell_type": "code",
   "execution_count": 80,
   "id": "fa7bf6a2",
   "metadata": {},
   "outputs": [
    {
     "data": {
      "image/png": "[encoded data removed]",
      "text/plain": [
       "<Figure size 432x288 with 1 Axes>"
      ]
     },
     "metadata": {
      "needs_background": "light"
     },
     "output_type": "display_data"
    }
   ],
   "source": [
    "#Price(in Lakhs)\n",
    "plt.subplot(1, 3, 3)\n",
    "sns.histplot(df['Price(in Lakhs)'], kde=True)\n",
    "plt.title('Distribution of Price')\n",
    "\n",
    "plt.tight_layout()\n",
    "plt.show()"
   ]
  },
  {
   "cell_type": "markdown",
   "id": "0df0aa02",
   "metadata": {},
   "source": [
    "## Box Plots"
   ]
  },
  {
   "cell_type": "code",
   "execution_count": 82,
   "id": "64861d7b",
   "metadata": {},
   "outputs": [
    {
     "data": {
      "text/plain": [
       "<Figure size 864x432 with 0 Axes>"
      ]
     },
     "execution_count": 82,
     "metadata": {},
     "output_type": "execute_result"
    },
    {
     "data": {
      "text/plain": [
       "<Figure size 864x432 with 0 Axes>"
      ]
     },
     "metadata": {},
     "output_type": "display_data"
    }
   ],
   "source": [
    "plt.figure(figsize=(12, 6))"
   ]
  },
  {
   "cell_type": "code",
   "execution_count": 83,
   "id": "2b2c321a",
   "metadata": {},
   "outputs": [
    {
     "data": {
      "text/plain": [
       "Text(0.5, 1.0, 'Price by Fuel Type')"
      ]
     },
     "execution_count": 83,
     "metadata": {},
     "output_type": "execute_result"
    },
    {
     "data": {
      "image/png": "[encoded data removed]",
      "text/plain": [
       "<Figure size 432x288 with 1 Axes>"
      ]
     },
     "metadata": {
      "needs_background": "light"
     },
     "output_type": "display_data"
    }
   ],
   "source": [
    "#Price by Fuel Type\n",
    "plt.subplot(1, 2, 1)\n",
    "sns.boxplot(x='Fuel Type', y='Price(in Lakhs)', data=df)\n",
    "plt.title('Price by Fuel Type')"
   ]
  },
  {
   "cell_type": "code",
   "execution_count": 84,
   "id": "fdb681c5",
   "metadata": {},
   "outputs": [
    {
     "data": {
      "image/png": "[encoded data removed]",
      "text/plain": [
       "<Figure size 432x288 with 1 Axes>"
      ]
     },
     "metadata": {
      "needs_background": "light"
     },
     "output_type": "display_data"
    }
   ],
   "source": [
    "#Price by Transmission\n",
    "plt.subplot(1, 2, 2)\n",
    "sns.boxplot(x='Transmission', y='Price(in Lakhs)', data=df)\n",
    "plt.title('Price by Transmission')\n",
    "\n",
    "plt.tight_layout()\n",
    "plt.show()"
   ]
  },
  {
   "cell_type": "markdown",
   "id": "6d700bc9",
   "metadata": {},
   "source": [
    "## Correlation Analysis"
   ]
  },
  {
   "cell_type": "code",
   "execution_count": 86,
   "id": "49b464aa",
   "metadata": {},
   "outputs": [
    {
     "name": "stdout",
     "output_type": "stream",
     "text": [
      "Correlation Matrix:\n",
      "                          Kilometers Driven(in km)  Year of Manufacture  \\\n",
      "Kilometers Driven(in km)                  1.000000            -0.770983   \n",
      "Year of Manufacture                      -0.770983             1.000000   \n",
      "Price(in Lakhs)                          -0.608742             0.817667   \n",
      "\n",
      "                          Price(in Lakhs)  \n",
      "Kilometers Driven(in km)        -0.608742  \n",
      "Year of Manufacture              0.817667  \n",
      "Price(in Lakhs)                  1.000000  \n"
     ]
    },
    {
     "data": {
      "image/png": "[encoded data removed]",
      "text/plain": [
       "<Figure size 432x288 with 2 Axes>"
      ]
     },
     "metadata": {
      "needs_background": "light"
     },
     "output_type": "display_data"
    }
   ],
   "source": [
    "correlation_matrix = df[['Kilometers Driven(in km)', 'Year of Manufacture', 'Price(in Lakhs)']].corr()\n",
    "print(\"Correlation Matrix:\")\n",
    "print(correlation_matrix)\n",
    "\n",
    "sns.heatmap(correlation_matrix, annot=True, cmap='coolwarm', fmt='.2f')\n",
    "plt.title('Correlation Matrix')\n",
    "plt.show()"
   ]
  },
  {
   "cell_type": "markdown",
   "id": "60eee3aa",
   "metadata": {},
   "source": [
    "## Inference"
   ]
  },
  {
   "cell_type": "code",
   "execution_count": 87,
   "id": "301d16a7",
   "metadata": {},
   "outputs": [
    {
     "name": "stdout",
     "output_type": "stream",
     "text": [
      "\n",
      "Insights:\n",
      "- The average price of the cars is around 12.28 lakhs.\n",
      "- The dataset contains cars mainly from the years 2017 to 2021 .\n",
      "- Diesel cars have a different price distribution compared to petrol cars, as shown in the box plots.\n",
      "- Automatic and manual transmission cars also show different price distributions.\n",
      "- The correlation matrix shows the relationships between kilometers driven, year of manufacture, and price.\n"
     ]
    }
   ],
   "source": [
    "print(\"\\nInsights:\")\n",
    "print(\"- The average price of the cars is around\", round(summary_stats['Price(in Lakhs)']['mean'], 2), \"lakhs.\")\n",
    "print(\"- The dataset contains cars mainly from the years\", df['Year of Manufacture'].min(), \"to\", df['Year of Manufacture'].max(), \".\")\n",
    "print(\"- Diesel cars have a different price distribution compared to petrol cars, as shown in the box plots.\")\n",
    "print(\"- Automatic and manual transmission cars also show different price distributions.\")\n",
    "print(\"- The correlation matrix shows the relationships between kilometers driven, year of manufacture, and price.\")"
   ]
  },
  {
   "cell_type": "code",
   "execution_count": null,
   "id": "66e5d4c3",
   "metadata": {},
   "outputs": [],
   "source": []
  }
 ],
 "metadata": {
  "kernelspec": {
   "display_name": "Python 3 (ipykernel)",
   "language": "python",
   "name": "python3"
  },
  "language_info": {
   "codemirror_mode": {
    "name": "ipython",
    "version": 3
   },
   "file_extension": ".py",
   "mimetype": "text/x-python",
   "name": "python",
   "nbconvert_exporter": "python",
   "pygments_lexer": "ipython3",
   "version": "3.9.12"
  }
 },
 "nbformat": 4,
 "nbformat_minor": 5
}
